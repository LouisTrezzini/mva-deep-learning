{
 "cells": [
  {
   "cell_type": "markdown",
   "metadata": {},
   "source": [
    "**You may need to install [OpenCV](https://pypi.python.org/pypi/opencv-python) and [scikit-video](http://www.scikit-video.org/stable/).**"
   ]
  },
  {
   "cell_type": "code",
   "execution_count": 5,
   "metadata": {},
   "outputs": [],
   "source": [
    "import keras\n",
    "import numpy as np\n",
    "import io\n",
    "import base64\n",
    "from IPython.display import HTML\n",
    "import skvideo.io\n",
    "import cv2\n",
    "import json\n",
    "\n",
    "from keras.models import Sequential,model_from_json\n",
    "from keras.layers.core import Dense\n",
    "from keras.optimizers import sgd\n",
    "from keras.layers import Conv2D, MaxPooling2D, Activation, AveragePooling2D,Reshape,BatchNormalization"
   ]
  },
  {
   "cell_type": "markdown",
   "metadata": {},
   "source": [
    "# MiniProject #3: Deep Reinforcement Learning"
   ]
  },
  {
   "cell_type": "markdown",
   "metadata": {},
   "source": [
    "__Notations__: $E_p$ is the expectation under probability $p$. Please justify each of your answer and widely comment your code."
   ]
  },
  {
   "cell_type": "markdown",
   "metadata": {},
   "source": [
    "# Context"
   ]
  },
  {
   "cell_type": "markdown",
   "metadata": {},
   "source": [
    "In a reinforcement learning algorithm, we modelize each step $t$ as an action $a_t$ obtained from a state $s_t$, i.e. $\\{(a_{t},s_{t})_{t\\leq T}\\}$ having the Markov property. We consider a discount factor $\\gamma \\in [0,1]$ that ensures convergence. The goal is to find among all the policies $\\pi$, one that maximizes the expected reward:\n",
    "\n",
    "\\begin{equation*}\n",
    "R(\\pi)=\\sum_{t\\leq T}E_{p^{\\pi}}[\\gamma^t r(s_{t},a_{t})] \\> ,\n",
    "\\end{equation*}\n",
    "\n",
    "where: \n",
    "\\begin{equation*}p^{\\pi}(s_{0},a_{1},s_{1},...,a_{T},s_{T})=p(s_{0})\\prod_{t=1}^{T}\\pi(a_{t}|s_{t})p(s_{t+1}|s_{t},a_{t}) \\> .\n",
    "\\end{equation*}\n",
    "\n",
    "We note the $Q$-function:\n",
    "\n",
    "\\begin{equation*}Q^\\pi(s,a)=E_{p^{\\pi}}[\\sum_{t\\leq T}\\gamma^{t}r(s_{t},a_{t})|s_{0}=s,a_{0}=a] \\> .\n",
    "\\end{equation*}\n",
    "\n",
    "Thus, the optimal Q function is:\n",
    "\\begin{equation*}\n",
    "Q^*(s,a)=\\max_{\\pi}Q^\\pi(s,a) \\> .\n",
    "\\end{equation*}\n",
    "\n",
    "In this project, we will apply the deep reinforcement learning techniques to a simple game: an agent will have to learn from scratch a policy that will permit it maximizing a reward."
   ]
  },
  {
   "cell_type": "markdown",
   "metadata": {},
   "source": [
    "## The environment, the agent and the game"
   ]
  },
  {
   "cell_type": "markdown",
   "metadata": {},
   "source": [
    "### The environment"
   ]
  },
  {
   "cell_type": "markdown",
   "metadata": {},
   "source": [
    "```Environment``` is an abstract class that represents the states, rewards, and actions to obtain the new state."
   ]
  },
  {
   "cell_type": "code",
   "execution_count": 6,
   "metadata": {},
   "outputs": [],
   "source": [
    "class Environment(object):\n",
    "    def __init__(self):\n",
    "        pass\n",
    "\n",
    "    def act(self, act):\n",
    "        \"\"\"\n",
    "        One can act on the environment and obtain its reaction:\n",
    "        - the new state\n",
    "        - the reward of the new state\n",
    "        - should we continue the game?\n",
    "\n",
    "        :return: state, reward, game_over\n",
    "        \"\"\"\n",
    "        pass\n",
    "\n",
    "\n",
    "    def reset(self):\n",
    "        \"\"\"\n",
    "        Reinitialize the environment to a random state and returns\n",
    "        the original state\n",
    "\n",
    "        :return: state\n",
    "        \"\"\"\n",
    "        pass\n",
    "    \n",
    "    def draw(self):\n",
    "        \"\"\"\n",
    "        Visualize in the console or graphically the current state\n",
    "        \"\"\"\n",
    "        pass"
   ]
  },
  {
   "cell_type": "markdown",
   "metadata": {},
   "source": [
    "The method ```act``` allows to act on the environment at a given state $s_t$ (stored internally), via action $a_t$. The method will return the new state $s_{t+1}$, the reward $r(s_{t},a_{t})$ and determines if $t\\leq T$ (*game_over*).\n",
    "\n",
    "The method ```reset``` simply reinitializes the environment to a random state $s_0$.\n",
    "\n",
    "The method ```draw``` displays the current state $s_t$ (this is useful to check the behavior of the Agent).\n",
    "\n",
    "We modelize $s_t$ as a tensor, while $a_t$ is an integer."
   ]
  },
  {
   "cell_type": "markdown",
   "metadata": {},
   "source": [
    "### The Agent"
   ]
  },
  {
   "cell_type": "markdown",
   "metadata": {},
   "source": [
    "The goal of the ```Agent``` is to interact with the ```Environment``` by proposing actions $a_t$ obtained from a given state $s_t$ to attempt to maximize its __reward__ $r(s_t,a_t)$. We propose the following abstract class:"
   ]
  },
  {
   "cell_type": "code",
   "execution_count": 7,
   "metadata": {},
   "outputs": [],
   "source": [
    "class Agent(object):\n",
    "    def __init__(self, epsilon=0.1, n_action=4):\n",
    "        self.epsilon = epsilon\n",
    "        self.n_action = n_action\n",
    "    \n",
    "    def set_epsilon(self,e):\n",
    "        self.epsilon = e\n",
    "\n",
    "    def act(self,s,train=True):\n",
    "        \"\"\" This function should return the next action to do:\n",
    "        an integer between 0 and 4 (not included) with a random exploration of epsilon\"\"\"\n",
    "        if train:\n",
    "            if np.random.rand() <= self.epsilon:\n",
    "                a = np.random.randint(0, self.n_action, size=1)[0]\n",
    "            else:\n",
    "                a = self.learned_act(s)\n",
    "        else: # in some cases, this can improve the performance.. remove it if poor performances\n",
    "            a = self.learned_act(s)\n",
    "\n",
    "        return a\n",
    "\n",
    "    def learned_act(self,s):\n",
    "        \"\"\" Act via the policy of the agent, from a given state s\n",
    "        it proposes an action a\"\"\"\n",
    "        pass\n",
    "\n",
    "    def reinforce(self, s, n_s, a, r, game_over_):\n",
    "        \"\"\" This function is the core of the learning algorithm. \n",
    "        It takes as an input the current state s_, the next state n_s_\n",
    "        the action a_ used to move from s_ to n_s_ and the reward r_.\n",
    "        \n",
    "        Its goal is to learn a policy.\n",
    "        \"\"\"\n",
    "        pass\n",
    "\n",
    "    def save(self):\n",
    "        \"\"\" This function returns basic stats if applicable: the\n",
    "        loss and/or the model\"\"\"\n",
    "        pass\n",
    "\n",
    "    def load(self):\n",
    "        \"\"\" This function allows to restore a model\"\"\"\n",
    "        pass"
   ]
  },
  {
   "cell_type": "markdown",
   "metadata": {},
   "source": [
    "***\n",
    "__Question 1__:\n",
    "Explain the function act. Why is ```epsilon``` essential?"
   ]
  },
  {
   "cell_type": "markdown",
   "metadata": {},
   "source": [
    "(you can use Markdown and Latex)"
   ]
  },
  {
   "cell_type": "markdown",
   "metadata": {},
   "source": [
    "***\n",
    "### The Game"
   ]
  },
  {
   "cell_type": "markdown",
   "metadata": {},
   "source": [
    "The ```Agent``` and the ```Environment``` work in an interlaced way as in the following (take some time to understand this code as it is the core of the project)\n",
    "\n",
    "```python\n",
    "\n",
    "epoch = 300\n",
    "env = Environment()\n",
    "agent = Agent()\n",
    "\n",
    "\n",
    "# Number of won games\n",
    "score = 0\n",
    "loss = 0\n",
    "\n",
    "\n",
    "for e in range(epoch):\n",
    "    # At each epoch, we restart to a fresh game and get the initial state\n",
    "    state = env.reset()\n",
    "    # This assumes that the games will end\n",
    "    game_over = False\n",
    "\n",
    "    win = 0\n",
    "    lose = 0\n",
    "    \n",
    "    while not game_over:\n",
    "        # The agent performs an action\n",
    "        action = agent.act(state)\n",
    "\n",
    "        # Apply an action to the environment, get the next state, the reward\n",
    "        # and if the games end\n",
    "        prev_state = state\n",
    "        state, reward, game_over = env.act(action)\n",
    "\n",
    "        # Update the counters\n",
    "        if reward > 0:\n",
    "            win = win + reward\n",
    "        if reward < 0:\n",
    "            lose = lose -reward\n",
    "\n",
    "        # Apply the reinforcement strategy\n",
    "        loss = agent.reinforce(prev_state, state,  action, reward, game_over)\n",
    "\n",
    "    # Save as a mp4\n",
    "    if e % 10 == 0:\n",
    "        env.draw(e)\n",
    "\n",
    "    # Update stats\n",
    "    score += win-lose\n",
    "\n",
    "    print(\"Epoch {:03d}/{:03d} | Loss {:.4f} | Win/lose count {}/{} ({})\"\n",
    "          .format(e, epoch, loss, win, lose, win-lose))\n",
    "    agent.save()\n",
    "```"
   ]
  },
  {
   "cell_type": "markdown",
   "metadata": {},
   "source": [
    "# The game, *eat cheese*"
   ]
  },
  {
   "cell_type": "markdown",
   "metadata": {},
   "source": [
    "A rat runs on an island and tries to eat as much as possible. The island is subdivided into $N\\times N$ cells, in which there are cheese (+0.5) and poisonous cells (-1). The rat has a visibility of 2 cells (thus it can see $5^2$ cells). The rat is given a time $T$ to accumulate as much food as possible. It can perform 4 actions: going up, down, left, right. \n",
    "\n",
    "The goal is to code an agent to solve this task that will learn by trial and error. We propose the following environment:"
   ]
  },
  {
   "cell_type": "code",
   "execution_count": 8,
   "metadata": {},
   "outputs": [],
   "source": [
    "class Environment(object):\n",
    "    def __init__(self, grid_size=10, max_time=500, temperature=0.1):\n",
    "        grid_size = grid_size+4\n",
    "        self.grid_size = grid_size\n",
    "        self.max_time = max_time\n",
    "        self.temperature = temperature\n",
    "\n",
    "        #board on which one plays\n",
    "        self.board = np.zeros((grid_size,grid_size))\n",
    "        self.position = np.zeros((grid_size,grid_size))\n",
    "\n",
    "        # coordinate of the cat\n",
    "        self.x = 0\n",
    "        self.y = 1\n",
    "\n",
    "        # self time\n",
    "        self.t = 0\n",
    "\n",
    "        self.scale=16\n",
    "\n",
    "        self.to_draw = np.zeros((max_time+2, grid_size*self.scale, grid_size*self.scale, 3))\n",
    "\n",
    "\n",
    "    def draw(self,e):\n",
    "        skvideo.io.vwrite(str(e) + '.mp4', self.to_draw)\n",
    "\n",
    "    def get_frame(self,t):\n",
    "        b = np.zeros((self.grid_size,self.grid_size,3))+128\n",
    "        b[self.board>0,0] = 256\n",
    "        b[self.board < 0, 2] = 256\n",
    "        b[self.x,self.y,:]=256\n",
    "        b[-2:,:,:]=0\n",
    "        b[:,-2:,:]=0\n",
    "        b[:2,:,:]=0\n",
    "        b[:,:2,:]=0\n",
    "        \n",
    "        b =  cv2.resize(b, None, fx=self.scale, fy=self.scale, interpolation=cv2.INTER_NEAREST)\n",
    "\n",
    "        self.to_draw[t,:,:,:]=b\n",
    "\n",
    "\n",
    "    def act(self, action):\n",
    "        \"\"\"This function returns the new state, reward and decides if the\n",
    "        game ends.\"\"\"\n",
    "\n",
    "        self.get_frame(int(self.t))\n",
    "\n",
    "        self.position = np.zeros((self.grid_size, self.grid_size))\n",
    "\n",
    "        self.position[0:2,:]= -1\n",
    "        self.position[:,0:2] = -1\n",
    "        self.position[-2:, :] = -1\n",
    "        self.position[, -2:] = -1\n",
    "\n",
    "        self.position[self.x, self.y] = 1\n",
    "        if action == 0:\n",
    "            if self.x == self.grid_size-3:\n",
    "                self.x = self.x-1\n",
    "            else:\n",
    "                self.x = self.x + 1\n",
    "        elif action == 1:\n",
    "            if self.x == 2:\n",
    "                self.x = self.x+1\n",
    "            else:\n",
    "                self.x = self.x-1\n",
    "        elif action == 2:\n",
    "            if self.y == self.grid_size - 3:\n",
    "                self.y = self.y - 1\n",
    "            else:\n",
    "                self.y = self.y + 1\n",
    "        elif action == 3:\n",
    "            if self.y == 2:\n",
    "                self.y = self.y + 1\n",
    "            else:\n",
    "                self.y = self.y - 1\n",
    "        else:\n",
    "            RuntimeError('Error: action not recognized')\n",
    "\n",
    "        self.t = self.t + 1\n",
    "        reward = self.board[self.x, self.y]\n",
    "        self.board[self.x, self.y] = 0\n",
    "        game_over = self.t > self.max_time\n",
    "        state = np.concatenate((self.board.reshape(self.grid_size, self.grid_size,1),\n",
    "                        self.position.reshape(self.grid_size, self.grid_size,1)),axis=2)\n",
    "        state = state[self.x-2:self.x+3,self.y-2:self.y+3,:]\n",
    "\n",
    "        return state, reward, game_over\n",
    "\n",
    "    def reset(self):\n",
    "        \"\"\"This function resets the game and returns the initial state\"\"\"\n",
    "\n",
    "        self.x = np.random.randint(3, self.grid_size-3, size=1)[0]\n",
    "        self.y = np.random.randint(3, self.grid_size-3, size=1)[0]\n",
    "\n",
    "\n",
    "        bonus = 0.5*np.random.binomial(1,self.temperature,size=self.grid_size**2)\n",
    "        bonus = bonus.reshape(self.grid_size,self.grid_size)\n",
    "\n",
    "        malus = -1.0*np.random.binomial(1,self.temperature,size=self.grid_size**2)\n",
    "        malus = malus.reshape(self.grid_size, self.grid_size)\n",
    "\n",
    "        self.to_draw = np.zeros((self.max_time+2, self.grid_size*self.scale, self.grid_size*self.scale, 3))\n",
    "\n",
    "\n",
    "        malus[bonus>0]=0\n",
    "\n",
    "        self.board = bonus + malus\n",
    "\n",
    "        self.position = np.zeros((self.grid_size, self.grid_size))\n",
    "        self.position[:2,:]= -1\n",
    "        self.position[:,:2] = -1\n",
    "        self.position[-2:, :] = -1\n",
    "        self.position[, -2:] = -1\n",
    "        self.board[self.x,self.y] = 0\n",
    "        self.t = 0\n",
    "\n",
    "        state = np.concatenate((\n",
    "                               self.board.reshape(self.grid_size, self.grid_size,1),\n",
    "                        self.position.reshape(self.grid_size, self.grid_size,1)),axis=2)\n",
    "\n",
    "        state = state[self.x - 2:self.x + 3, self.y - 2:self.y + 3, :]\n",
    "        return state"
   ]
  },
  {
   "cell_type": "markdown",
   "metadata": {},
   "source": [
    "The following elements are important because they correspond to the hyper parameters for this project:"
   ]
  },
  {
   "cell_type": "code",
   "execution_count": 58,
   "metadata": {},
   "outputs": [],
   "source": [
    "# parameters\n",
    "size = 13\n",
    "T=200\n",
    "temperature=0.3\n",
    "epochs_train=10 # set small when debugging\n",
    "epochs_test=10 # set small when debugging\n",
    "\n",
    "# display videos\n",
    "def display_videos(name):\n",
    "    video = io.open(name, 'r+b').read()\n",
    "    encoded = base64.b64encode(video)\n",
    "    return '''<video alt=\"test\" controls>\n",
    "                <source src=\"data:video/mp4;base64,{0}\" type=\"video/mp4\" />\n",
    "             </video>'''.format(encoded.decode('ascii'))"
   ]
  },
  {
   "cell_type": "markdown",
   "metadata": {},
   "source": [
    "__Question 2__ Explain the use of the arrays ```position``` and ```board```."
   ]
  },
  {
   "cell_type": "markdown",
   "metadata": {},
   "source": []
  },
  {
   "cell_type": "markdown",
   "metadata": {},
   "source": [
    "## Random Agent"
   ]
  },
  {
   "cell_type": "markdown",
   "metadata": {},
   "source": [
    "***\n",
    "__Question 3__ Implement a random Agent (only ```learned_act``` needs to be implemented):"
   ]
  },
  {
   "cell_type": "code",
   "execution_count": 59,
   "metadata": {},
   "outputs": [],
   "source": [
    "class RandomAgent(Agent):\n",
    "    def __init__(self):\n",
    "        super(RandomAgent, self).__init__()\n",
    "        pass\n",
    "\n",
    "    def learned_act(self, s):\n",
    "        return np.random.randint(0, self.n_action)"
   ]
  },
  {
   "cell_type": "markdown",
   "metadata": {},
   "source": [
    "***\n",
    "***\n",
    "__Question 4__ Visualize the game moves. You need to fill in the following function for the evaluation:"
   ]
  },
  {
   "cell_type": "code",
   "execution_count": 91,
   "metadata": {},
   "outputs": [],
   "source": [
    "def test(agent, env, epochs, prefix=''):\n",
    "    # Number of won games\n",
    "    score = 0\n",
    "        \n",
    "    for e in range(1, epochs + 1):\n",
    "        \n",
    "        # At each epoch, we restart to a fresh game and get the initial state\n",
    "        state = env.reset()\n",
    "        # This assumes that the games will end\n",
    "        game_over = False\n",
    "\n",
    "        win = 0\n",
    "        lose = 0\n",
    "\n",
    "        while not game_over:\n",
    "            # The agent performs an action\n",
    "            action = agent.act(state)\n",
    "\n",
    "            # Apply an action to the environment, get the next state, the reward\n",
    "            # and if the games end\n",
    "            prev_state = state\n",
    "            state, reward, game_over = env.act(action)\n",
    "\n",
    "            # Update the counters\n",
    "            if reward > 0:\n",
    "                win = win + reward\n",
    "            if reward < 0:\n",
    "                lose = lose -reward\n",
    "\n",
    "            # Apply the reinforcement strategy\n",
    "            loss = agent.reinforce(prev_state, state,  action, reward, game_over)\n",
    "        \n",
    "        # Save as a mp4\n",
    "        env.draw(prefix + str(e))\n",
    "\n",
    "        # Update stats\n",
    "        score += win - lose\n",
    "\n",
    "        print(\"Win/lose count {}/{}. Average score ({})\".format(win, lose, score/(1+e)))\n",
    "    print('Final score: {}'.format(score / epochs))"
   ]
  },
  {
   "cell_type": "code",
   "execution_count": 61,
   "metadata": {},
   "outputs": [
    {
     "name": "stdout",
     "output_type": "stream",
     "text": [
      "Win/lose count 8.5/14.0. Average score (-5.5)\n",
      "Win/lose count 10.0/11.0. Average score (-3.25)\n",
      "Win/lose count 11.5/16.0. Average score (-3.6666666666666665)\n",
      "Win/lose count 13.5/13.0. Average score (-2.625)\n",
      "Win/lose count 11.0/13.0. Average score (-2.5)\n",
      "Win/lose count 12.0/12.0. Average score (-2.0833333333333335)\n",
      "Win/lose count 8.0/12.0. Average score (-2.357142857142857)\n",
      "Win/lose count 8.5/13.0. Average score (-2.625)\n",
      "Win/lose count 13.0/17.0. Average score (-2.7777777777777777)\n",
      "Win/lose count 9.5/9.0. Average score (-2.45)\n",
      "Final score: -2.45\n"
     ]
    },
    {
     "data": {
      "text/html": [
       "<video alt=\"test\" controls>\n",
       "                <source src=\"data:video/mp4;base64,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\" type=\"video/mp4\" />\n",
       "             </video>"
      ],
      "text/plain": [
       "<IPython.core.display.HTML object>"
      ]
     },
     "execution_count": 61,
     "metadata": {},
     "output_type": "execute_result"
    }
   ],
   "source": [
    "# Initialize the game\n",
    "env = Environment(grid_size=size, max_time=T, temperature=temperature)\n",
    "\n",
    "# Initialize the agent!\n",
    "agent = RandomAgent()\n",
    "\n",
    "test(agent, env, epochs_test, prefix='random')\n",
    "HTML(display_videos('random0.mp4'))"
   ]
  },
  {
   "cell_type": "markdown",
   "metadata": {},
   "source": [
    "***\n",
    "## DQN"
   ]
  },
  {
   "cell_type": "markdown",
   "metadata": {},
   "source": [
    "Let us assume here that $T=\\infty$.\n",
    "\n",
    "***\n",
    "__Question 5__ Let $\\pi$ be a policy, show that:\n",
    "\n",
    "\\begin{equation*}\n",
    "Q^{\\pi}(s,a)=E_{(s',a')\\sim p(.|s,a)}[r(s,a)+\\gamma Q^{\\pi}(s',a')]\n",
    "\\end{equation*}\n",
    "\n",
    "Then, show that for the optimal policy $\\pi^*$ (we assume its existence), the following holds: \n",
    "\n",
    "\\begin{equation*}\n",
    "Q^{*}(s,a)=E_{s'\\sim \\pi^*(.|s,a)}[r(s,a)+\\gamma\\max_{a'}Q^{*}(s',a')].\n",
    "\\end{equation*}\n",
    "Finally, deduce that a plausible objective is:\n",
    "\n",
    "\\begin{equation*}\n",
    "\\mathcal{L}(\\theta)=E_{s' \\sim \\pi^*(.|s,a)}\\Vert r+\\gamma\\max\\max_{a'}Q(s',a',\\theta)-Q(s,a,\\theta)\\Vert^{2}.\n",
    "\\end{equation*}\n",
    "\n",
    "\n"
   ]
  },
  {
   "cell_type": "markdown",
   "metadata": {},
   "source": [
    "FIXME"
   ]
  },
  {
   "cell_type": "markdown",
   "metadata": {},
   "source": [
    "***\n",
    "The DQN-learning algorithm relies on these derivations to train the parameters $\\theta$ of a Deep Neural Network:\n",
    "\n",
    "1. At the state $s_t$, select the action $a_t$ with best reward using $Q_t$ and store the results;\n",
    "\n",
    "2. Obtain the new state $s_{t+1}$ from the environment $p$;\n",
    "\n",
    "3. Store $(s_t,a_t,s_{t+1})$;\n",
    "\n",
    "4. Obtain $Q_{t+1}$ by minimizing  $\\mathcal{L}$ from a recovered batch from the previously stored results.\n",
    "\n",
    "***\n",
    "__Question 6__ Implement the class ```Memory``` that stores moves (in a replay buffer) via ```remember``` and provides a ```random_access``` to these. Specify a maximum memory size to avoid side effects. You can for example use a ```list()``` and set by default ```max_memory=100```."
   ]
  },
  {
   "cell_type": "code",
   "execution_count": 62,
   "metadata": {},
   "outputs": [],
   "source": [
    "from collections import deque\n",
    "\n",
    "class Memory(object):\n",
    "    def __init__(self, max_memory=100):\n",
    "        self.max_memory = max_memory\n",
    "        self.memory = deque(maxlen=max_memory)\n",
    "\n",
    "    def remember(self, m):\n",
    "        self.memory.append(m)\n",
    "\n",
    "    def random_access(self):\n",
    "        return self.memory[np.random.randint(0, len(self.memory))]"
   ]
  },
  {
   "cell_type": "markdown",
   "metadata": {},
   "source": [
    "***\n",
    "The pipeline we will use for training is given below:"
   ]
  },
  {
   "cell_type": "code",
   "execution_count": 66,
   "metadata": {},
   "outputs": [],
   "source": [
    "def train(agent,env,epoch,prefix=''):\n",
    "    # Number of won games\n",
    "    score = 0\n",
    "    loss = 0\n",
    "\n",
    "    for e in range(1, epoch + 1):\n",
    "        # At each epoch, we restart to a fresh game and get the initial state\n",
    "        state = env.reset()\n",
    "        # This assumes that the games will terminate\n",
    "        game_over = False\n",
    "\n",
    "        win = 0\n",
    "        lose = 0\n",
    "\n",
    "        while not game_over:\n",
    "            # The agent performs an action\n",
    "            action = agent.act(state)\n",
    "\n",
    "            # Apply an action to the environment, get the next state, the reward\n",
    "            # and if the games end\n",
    "            prev_state = state\n",
    "            state, reward, game_over = env.act(action)\n",
    "\n",
    "            # Update the counters\n",
    "            if reward > 0:\n",
    "                win = win + reward\n",
    "            if reward < 0:\n",
    "                lose = lose -reward\n",
    "\n",
    "            # Apply the reinforcement strategy\n",
    "            loss = agent.reinforce(prev_state, state,  action, reward, game_over)\n",
    "\n",
    "        # Save as a mp4\n",
    "        if e % 10 == 0:\n",
    "            env.draw(prefix+str(e))\n",
    "\n",
    "        # Update stats\n",
    "        score += win-lose\n",
    "\n",
    "        print(\"Epoch {:03d}/{:03d} | Loss {:.4f} | Win/lose count {}/{} ({})\"\n",
    "              .format(e, epoch, loss, win, lose, win-lose))\n",
    "        agent.save(name_weights=prefix+'model.h5',name_model=prefix+'model.json')"
   ]
  },
  {
   "cell_type": "markdown",
   "metadata": {},
   "source": [
    "***\n",
    "__Question 7__ Implement the DQN training algorithm using a cascade of fully connected layers. You can use different learning rate, batch size or memory size parameters. In particular, the loss might oscillate while the player will start to win the games. You have to find a good criterium."
   ]
  },
  {
   "cell_type": "code",
   "execution_count": 115,
   "metadata": {},
   "outputs": [],
   "source": [
    "from keras.layers import Flatten, Input\n",
    "\n",
    "\n",
    "class DQN(Agent):\n",
    "    def __init__(self, grid_size,  epsilon=0.1, memory_size=100, batch_size=16, n_state=2):\n",
    "        super(DQN, self).__init__(epsilon=epsilon)\n",
    "\n",
    "        # Discount for Q learning\n",
    "        self.discount = 0.99\n",
    "        \n",
    "        self.grid_size = grid_size\n",
    "        \n",
    "        # number of state\n",
    "        self.n_state = n_state\n",
    "\n",
    "        # Memory\n",
    "        self.memory = Memory(memory_size)\n",
    "        \n",
    "        # Batch size when learning\n",
    "        self.batch_size = batch_size\n",
    "\n",
    "    def learned_act(self, s):\n",
    "        q = self.model.predict(s.reshape(-1, 5, 5, self.n_state)).ravel()\n",
    "        return np.argmax(q)\n",
    "\n",
    "    def reinforce(self, state, next_state, action, reward, game_over):\n",
    "        # Two steps: first memorize the states, second learn from the pool\n",
    "\n",
    "        self.memory.remember([state, next_state, action, reward, game_over])\n",
    "        \n",
    "        input_states = np.zeros((self.batch_size, 5, 5, self.n_state))\n",
    "        target_q = np.zeros((self.batch_size, 4))\n",
    "        \n",
    "        q = self.model.predict(input_states)\n",
    "#         target_q = q.copy()\n",
    "        \n",
    "        for i in range(self.batch_size):\n",
    "            state, next_state, action, reward, game_over = self.memory.random_access()\n",
    "            input_states[i] = state\n",
    "            \n",
    "            if game_over:\n",
    "                target_q[i, action] = reward\n",
    "            else:\n",
    "                target_q[i, action] = reward + self.discount * np.max(q[i])\n",
    "        ######## FILL IN\n",
    "        # HINT: Clip the target to avoid exploiding gradients.. -- clipping is a bit tighter\n",
    "        target_q = np.clip(target_q, -3, 3)\n",
    "\n",
    "        l = self.model.train_on_batch(input_states, target_q)\n",
    "\n",
    "\n",
    "        return l\n",
    "\n",
    "    def save(self,name_weights='model.h5',name_model='model.json'):\n",
    "        self.model.save_weights(name_weights, overwrite=True)\n",
    "        with open(name_model, \"w\") as outfile:\n",
    "            json.dump(self.model.to_json(), outfile)\n",
    "            \n",
    "    def load(self,name_weights='model.h5',name_model='model.json'):\n",
    "        with open(name_model, \"r\") as jfile:\n",
    "            model = model_from_json(json.load(jfile))\n",
    "        model.load_weights(name_weights)\n",
    "        model.compile(\"sgd\", \"mse\")\n",
    "        self.model = model\n",
    "\n",
    "            \n",
    "class DQN_FC(DQN):\n",
    "    def __init__(self, *args, lr=0.1,**kwargs):\n",
    "        super(DQN_FC, self).__init__( *args,**kwargs)\n",
    "        \n",
    "        # NN Model\n",
    "        \n",
    "        model = Sequential([\n",
    "            Flatten(input_shape=(5, 5, self.n_state)),\n",
    "            Dense(16, activation='relu'),\n",
    "            Dense(4),\n",
    "        ])\n",
    "        \n",
    "        model.summary()\n",
    "        \n",
    "        model.compile(sgd(lr=lr, decay=1e-4, momentum=0.0), \"mse\")\n",
    "        self.model = model\n",
    "        "
   ]
  },
  {
   "cell_type": "code",
   "execution_count": 116,
   "metadata": {},
   "outputs": [
    {
     "name": "stdout",
     "output_type": "stream",
     "text": [
      "_________________________________________________________________\n",
      "Layer (type)                 Output Shape              Param #   \n",
      "=================================================================\n",
      "flatten_35 (Flatten)         (None, 50)                0         \n",
      "_________________________________________________________________\n",
      "dense_55 (Dense)             (None, 16)                816       \n",
      "_________________________________________________________________\n",
      "dense_56 (Dense)             (None, 4)                 68        \n",
      "=================================================================\n",
      "Total params: 884\n",
      "Trainable params: 884\n",
      "Non-trainable params: 0\n",
      "_________________________________________________________________\n",
      "Epoch 001/010 | Loss 0.0260 | Win/lose count 9.5/6.0 (3.5)\n",
      "Epoch 002/010 | Loss 0.0107 | Win/lose count 5.0/2.0 (3.0)\n",
      "Epoch 003/010 | Loss 0.0132 | Win/lose count 5.0/2.0 (3.0)\n",
      "Epoch 004/010 | Loss 0.0156 | Win/lose count 3.5/10.0 (-6.5)\n",
      "Epoch 005/010 | Loss 0.0038 | Win/lose count 3.0/3.0 (0.0)\n",
      "Epoch 006/010 | Loss 0.0203 | Win/lose count 9.5/7.0 (2.5)\n",
      "Epoch 007/010 | Loss 0.0031 | Win/lose count 7.0/4.0 (3.0)\n",
      "Epoch 008/010 | Loss 0.0110 | Win/lose count 9.0/7.0 (2.0)\n",
      "Epoch 009/010 | Loss 0.0024 | Win/lose count 8.5/6.0 (2.5)\n",
      "Epoch 010/010 | Loss 0.0049 | Win/lose count 3.0/1.0 (2.0)\n"
     ]
    },
    {
     "data": {
      "text/html": [
       "<video alt=\"test\" controls>\n",
       "                <source src=\"data:video/mp4;base64,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\" type=\"video/mp4\" />\n",
       "             </video>"
      ],
      "text/plain": [
       "<IPython.core.display.HTML object>"
      ]
     },
     "execution_count": 116,
     "metadata": {},
     "output_type": "execute_result"
    }
   ],
   "source": [
    "env = Environment(grid_size=size, max_time=T, temperature=0.3)\n",
    "agent = DQN_FC(size, lr=.1, epsilon = 0.1, memory_size=2000, batch_size = 32)\n",
    "train(agent, env, epochs_train, prefix='fc_train')\n",
    "HTML(display_videos('fc_train10.mp4'))"
   ]
  },
  {
   "cell_type": "markdown",
   "metadata": {},
   "source": [
    "***\n",
    "***\n",
    "__Question 8__ Implement the DQN training algorithm using a CNN (for example, 2 convolutional layers and one final fully connected layer)."
   ]
  },
  {
   "cell_type": "code",
   "execution_count": 119,
   "metadata": {},
   "outputs": [],
   "source": [
    "class DQN_CNN(DQN):\n",
    "    def __init__(self, *args,lr=0.1,**kwargs):\n",
    "        super(DQN_CNN, self).__init__(*args,**kwargs)\n",
    "        \n",
    "        model = Sequential([\n",
    "            Conv2D(16, (3, 3), activation='relu', input_shape=(5, 5, self.n_state)),\n",
    "#             MaxPooling2D((2, 2)),\n",
    "            Conv2D(8, (3, 3), activation='relu'),\n",
    "            Flatten(),\n",
    "            Dense(4),\n",
    "        ])\n",
    "        \n",
    "        model.summary()\n",
    "        \n",
    "        model.compile(sgd(lr=lr, decay=1e-4, momentum=0.0), \"mse\")\n",
    "        self.model = model"
   ]
  },
  {
   "cell_type": "code",
   "execution_count": 120,
   "metadata": {},
   "outputs": [
    {
     "name": "stdout",
     "output_type": "stream",
     "text": [
      "_________________________________________________________________\n",
      "Layer (type)                 Output Shape              Param #   \n",
      "=================================================================\n",
      "conv2d_37 (Conv2D)           (None, 3, 3, 16)          304       \n",
      "_________________________________________________________________\n",
      "conv2d_38 (Conv2D)           (None, 1, 1, 8)           1160      \n",
      "_________________________________________________________________\n",
      "flatten_37 (Flatten)         (None, 8)                 0         \n",
      "_________________________________________________________________\n",
      "dense_58 (Dense)             (None, 4)                 36        \n",
      "=================================================================\n",
      "Total params: 1,500\n",
      "Trainable params: 1,500\n",
      "Non-trainable params: 0\n",
      "_________________________________________________________________\n",
      "Epoch 001/010 | Loss 0.0099 | Win/lose count 3.5/4.0 (-0.5)\n",
      "Epoch 002/010 | Loss 0.0019 | Win/lose count 8.5/7.0 (1.5)\n",
      "Epoch 003/010 | Loss 0.0024 | Win/lose count 1.5/3.0 (-1.5)\n",
      "Epoch 004/010 | Loss 0.0110 | Win/lose count 3.5/2.0 (1.5)\n",
      "Epoch 005/010 | Loss 0.0043 | Win/lose count 4.0/2.0 (2.0)\n",
      "Epoch 006/010 | Loss 0.0003 | Win/lose count 6.0/12.0 (-6.0)\n",
      "Epoch 007/010 | Loss 0.0001 | Win/lose count 7.0/7.0 (0.0)\n",
      "Epoch 008/010 | Loss 0.0223 | Win/lose count 5.5/7.0 (-1.5)\n",
      "Epoch 009/010 | Loss 0.0080 | Win/lose count 9.0/5.0 (4.0)\n",
      "Epoch 010/010 | Loss 0.0032 | Win/lose count 6.5/5.0 (1.5)\n"
     ]
    },
    {
     "data": {
      "text/html": [
       "<video alt=\"test\" controls>\n",
       "                <source src=\"data:video/mp4;base64,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\" type=\"video/mp4\" />\n",
       "             </video>"
      ],
      "text/plain": [
       "<IPython.core.display.HTML object>"
      ]
     },
     "execution_count": 120,
     "metadata": {},
     "output_type": "execute_result"
    }
   ],
   "source": [
    "env = Environment(grid_size=size, max_time=T, temperature=0.3)\n",
    "agent = DQN_CNN(size, lr=.1, epsilon = 0.1, memory_size=2000, batch_size = 32)\n",
    "train(agent,env,epochs_train,prefix='cnn_train')\n",
    "HTML(display_videos('cnn_train10.mp4'))"
   ]
  },
  {
   "cell_type": "markdown",
   "metadata": {},
   "source": [
    "***\n",
    "***\n",
    "__Question 9__ Test both algorithms and compare their performances. Which issue(s) do you observe? Observe also different behaviors by changing the temperature."
   ]
  },
  {
   "cell_type": "code",
   "execution_count": 121,
   "metadata": {},
   "outputs": [
    {
     "name": "stdout",
     "output_type": "stream",
     "text": [
      "_________________________________________________________________\n",
      "Layer (type)                 Output Shape              Param #   \n",
      "=================================================================\n",
      "conv2d_39 (Conv2D)           (None, 3, 3, 16)          304       \n",
      "_________________________________________________________________\n",
      "conv2d_40 (Conv2D)           (None, 1, 1, 8)           1160      \n",
      "_________________________________________________________________\n",
      "flatten_38 (Flatten)         (None, 8)                 0         \n",
      "_________________________________________________________________\n",
      "dense_59 (Dense)             (None, 4)                 36        \n",
      "=================================================================\n",
      "Total params: 1,500\n",
      "Trainable params: 1,500\n",
      "Non-trainable params: 0\n",
      "_________________________________________________________________\n",
      "_________________________________________________________________\n",
      "Layer (type)                 Output Shape              Param #   \n",
      "=================================================================\n",
      "flatten_39 (Flatten)         (None, 50)                0         \n",
      "_________________________________________________________________\n",
      "dense_60 (Dense)             (None, 16)                816       \n",
      "_________________________________________________________________\n",
      "dense_61 (Dense)             (None, 4)                 68        \n",
      "=================================================================\n",
      "Total params: 884\n",
      "Trainable params: 884\n",
      "Non-trainable params: 0\n",
      "_________________________________________________________________\n",
      "Test of the CNN\n",
      "Win/lose count 4.5/4.0. Average score (0.25)\n",
      "Win/lose count 4.5/4.0. Average score (0.3333333333333333)\n",
      "Win/lose count 5.5/9.0. Average score (-0.625)\n",
      "Win/lose count 2.5/1.0. Average score (-0.2)\n",
      "Win/lose count 4.5/7.0. Average score (-0.5833333333333334)\n",
      "Win/lose count 6.0/7.0. Average score (-0.6428571428571429)\n",
      "Win/lose count 4.5/5.0. Average score (-0.625)\n",
      "Win/lose count 11.5/5.0. Average score (0.16666666666666666)\n",
      "Win/lose count 3.0/4.0. Average score (0.05)\n",
      "Win/lose count 3.0/5.0. Average score (-0.13636363636363635)\n",
      "Final score: -0.15\n",
      "Test of the FC\n",
      "Win/lose count 3.5/5.0. Average score (-0.75)\n",
      "Win/lose count 6.0/0. Average score (1.5)\n",
      "Win/lose count 3.0/7.0. Average score (0.125)\n",
      "Win/lose count 4.0/3.0. Average score (0.3)\n",
      "Win/lose count 2.0/2.0. Average score (0.25)\n",
      "Win/lose count 5.0/5.0. Average score (0.21428571428571427)\n",
      "Win/lose count 5.5/6.0. Average score (0.125)\n",
      "Win/lose count 5.5/5.0. Average score (0.16666666666666666)\n",
      "Win/lose count 1.0/2.0. Average score (0.05)\n",
      "Win/lose count 7.0/8.0. Average score (-0.045454545454545456)\n",
      "Final score: -0.05\n"
     ]
    }
   ],
   "source": [
    "env = Environment(grid_size=size, max_time=T,temperature=0.3)\n",
    "agent_cnn = DQN_CNN(size, lr=.1, epsilon = 0.1, memory_size=2000, batch_size = 32)\n",
    "agent_cnn.load(name_weights='cnn_trainmodel.h5',name_model='cnn_trainmodel.json')\n",
    "\n",
    "agent_fc = DQN_FC(size, lr=.1, epsilon = 0.1, memory_size=2000, batch_size = 32)\n",
    "agent_cnn.load(name_weights='fc_trainmodel.h5',name_model='fc_trainmodel.json')\n",
    "print('Test of the CNN')\n",
    "test(agent_cnn,env,epochs_test,prefix='cnn_test')\n",
    "print('Test of the FC')\n",
    "test(agent_fc,env,epochs_test,prefix='fc_test')"
   ]
  },
  {
   "cell_type": "code",
   "execution_count": 122,
   "metadata": {},
   "outputs": [
    {
     "data": {
      "text/html": [
       "<video alt=\"test\" controls>\n",
       "                <source src=\"data:video/mp4;base64,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\" type=\"video/mp4\" />\n",
       "             </video>"
      ],
      "text/plain": [
       "<IPython.core.display.HTML object>"
      ]
     },
     "execution_count": 122,
     "metadata": {},
     "output_type": "execute_result"
    }
   ],
   "source": [
    "HTML(display_videos('cnn_test10.mp4'))"
   ]
  },
  {
   "cell_type": "code",
   "execution_count": 123,
   "metadata": {},
   "outputs": [
    {
     "data": {
      "text/html": [
       "<video alt=\"test\" controls>\n",
       "                <source src=\"data:video/mp4;base64,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\" type=\"video/mp4\" />\n",
       "             </video>"
      ],
      "text/plain": [
       "<IPython.core.display.HTML object>"
      ]
     },
     "execution_count": 123,
     "metadata": {},
     "output_type": "execute_result"
    }
   ],
   "source": [
    "HTML(display_videos('fc_test10.mp4'))"
   ]
  },
  {
   "cell_type": "markdown",
   "metadata": {},
   "source": []
  },
  {
   "cell_type": "markdown",
   "metadata": {},
   "source": [
    "***\n",
    "\n",
    "The algorithm tends to not explore the map which can be an issue. We propose two ideas in order to encourage exploration:\n",
    "1. Incorporating a decreasing $\\epsilon$-greedy exploration. You can use the method ```set_epsilon```\n",
    "2. Append via the environment a new state that describes if a cell has been visited or not\n",
    "\n",
    "***\n",
    "__Question 10__ Design a new ```train_explore``` function and environment class ```EnvironmentExploring``` to tackle the issue of exploration.\n",
    "\n"
   ]
  },
  {
   "cell_type": "code",
   "execution_count": 126,
   "metadata": {},
   "outputs": [],
   "source": [
    "def train_explore(agent,env,epoch,prefix=''):\n",
    "    # Number of won games\n",
    "    score = 0\n",
    "    loss = 0\n",
    "\n",
    "    for e in range(1, epoch + 1):\n",
    "        # At each epoch, we restart to a fresh game and get the initial state\n",
    "        state = env.reset()\n",
    "        # This assumes that the games will terminate\n",
    "        game_over = False\n",
    "\n",
    "        win = 0\n",
    "        lose = 0\n",
    "\n",
    "        while not game_over:\n",
    "            # The agent performs an action\n",
    "            action = agent.act(state)\n",
    "\n",
    "            # Apply an action to the environment, get the next state, the reward\n",
    "            # and if the games end\n",
    "            prev_state = state\n",
    "            state, reward, game_over = env.act(action, train=True)\n",
    "\n",
    "            # Update the counters\n",
    "            if reward > 0:\n",
    "                win = win + reward\n",
    "            if reward < 0:\n",
    "                lose = lose -reward\n",
    "\n",
    "            # Apply the reinforcement strategy\n",
    "            loss = agent.reinforce(prev_state, state,  action, reward, game_over)\n",
    "\n",
    "        # Save as a mp4\n",
    "        if e % 10 == 0:\n",
    "            env.draw(prefix+str(e))\n",
    "            agent.set_epsilon(agent.epsilon * 0.1)\n",
    "\n",
    "        # Update stats\n",
    "        score += win-lose\n",
    "\n",
    "        print(\"Epoch {:03d}/{:03d} | Loss {:.4f} | Win/lose count {}/{} ({})\"\n",
    "              .format(e, epoch, loss, win, lose, win-lose))\n",
    "        agent.save(name_weights=prefix+'model.h5',name_model=prefix+'model.json')\n",
    "        \n",
    "class EnvironmentExploring(object):\n",
    "    def __init__(self, grid_size=10, max_time=500, temperature=0.1):\n",
    "        grid_size = grid_size+4\n",
    "        self.grid_size = grid_size\n",
    "        self.max_time = max_time\n",
    "        self.temperature = temperature\n",
    "\n",
    "        #board on which one plays\n",
    "        self.malus_position = np.zeros((grid_size,grid_size))\n",
    "        self.board = np.zeros((grid_size,grid_size))\n",
    "        self.position = np.zeros((grid_size,grid_size))\n",
    "\n",
    "        # coordinate of the cat\n",
    "        self.x = 0\n",
    "        self.y = 1\n",
    "\n",
    "        # self time\n",
    "        self.t = 0\n",
    "\n",
    "        self.scale=16\n",
    "\n",
    "        self.to_draw = np.zeros((max_time+2, grid_size*self.scale, grid_size*self.scale, 3))\n",
    "\n",
    "\n",
    "    def draw(self,e):\n",
    "        skvideo.io.vwrite(str(e) + '.mp4', self.to_draw)\n",
    "\n",
    "    def get_frame(self,t):\n",
    "        b = np.zeros((self.grid_size,self.grid_size,3))+128\n",
    "        b[self.board>0,0] = 256\n",
    "        b[self.board < 0, 2] = 256\n",
    "        b[self.x,self.y,:]=256\n",
    "        b[-2:,:,:]=0\n",
    "        b[:,-2:,:]=0\n",
    "        b[:2,:,:]=0\n",
    "        b[:,:2,:]=0\n",
    "        \n",
    "        b =  cv2.resize(b, None, fx=self.scale, fy=self.scale, interpolation=cv2.INTER_NEAREST)\n",
    "\n",
    "        self.to_draw[t,:,:,:]=b\n",
    "\n",
    "\n",
    "    def act(self, action, train=False):\n",
    "        \"\"\"This function returns the new state, reward and decides if the\n",
    "        game ends.\"\"\"\n",
    "\n",
    "        self.get_frame(int(self.t))\n",
    "\n",
    "        self.position = np.zeros((self.grid_size, self.grid_size))\n",
    "\n",
    "        self.position[:2,:]= -1\n",
    "        self.position[:, :2] = -1\n",
    "        self.position[-2:, :] = -1\n",
    "        self.position[:, -2:] = -1\n",
    "\n",
    "        self.position[self.x, self.y] = 1\n",
    "        if action == 0:\n",
    "            if self.x == self.grid_size-3:\n",
    "                self.x = self.x-1\n",
    "            else:\n",
    "                self.x = self.x + 1\n",
    "        elif action == 1:\n",
    "            if self.x == 2:\n",
    "                self.x = self.x+1\n",
    "            else:\n",
    "                self.x = self.x-1\n",
    "        elif action == 2:\n",
    "            if self.y == self.grid_size - 3:\n",
    "                self.y = self.y - 1\n",
    "            else:\n",
    "                self.y = self.y + 1\n",
    "        elif action == 3:\n",
    "            if self.y == 2:\n",
    "                self.y = self.y + 1\n",
    "            else:\n",
    "                self.y = self.y - 1\n",
    "        else:\n",
    "            RuntimeError('Error: action not recognized')\n",
    "\n",
    "        self.t = self.t + 1\n",
    "        reward = self.board[self.x, self.y]\n",
    "        if train:\n",
    "            reward -= self.malus_position[self.x, self.y]\n",
    "        \n",
    "        self.board[self.x, self.y] = 0\n",
    "        self.malus_position[self.x, self.y] = 0.1\n",
    "        \n",
    "        game_over = self.t > self.max_time\n",
    "        state = np.concatenate((self.malus_position.reshape(self.grid_size, self.grid_size,1),\n",
    "                                self.board.reshape(self.grid_size, self.grid_size,1),\n",
    "                        self.position.reshape(self.grid_size, self.grid_size,1)),axis=2)\n",
    "        state = state[self.x-2:self.x+3,self.y-2:self.y+3,:]\n",
    "\n",
    "        return state, reward, game_over\n",
    "\n",
    "    def reset(self):\n",
    "        \"\"\"This function resets the game and returns the initial state\"\"\"\n",
    "\n",
    "        self.x = np.random.randint(3, self.grid_size-3, size=1)[0]\n",
    "        self.y = np.random.randint(3, self.grid_size-3, size=1)[0]\n",
    "\n",
    "\n",
    "        bonus = 0.5*np.random.binomial(1,self.temperature,size=self.grid_size**2)\n",
    "        bonus = bonus.reshape(self.grid_size,self.grid_size)\n",
    "\n",
    "        malus = -1.0*np.random.binomial(1,self.temperature,size=self.grid_size**2)\n",
    "        malus = malus.reshape(self.grid_size, self.grid_size)\n",
    "\n",
    "        self.to_draw = np.zeros((self.max_time+2, self.grid_size*self.scale, self.grid_size*self.scale, 3))\n",
    "\n",
    "\n",
    "        malus[bonus>0]=0\n",
    "\n",
    "        self.board = bonus + malus\n",
    "\n",
    "        self.position = np.zeros((self.grid_size, self.grid_size))\n",
    "        self.position[:2,:]= -1\n",
    "        self.position[:, :2] = -1\n",
    "        self.position[-2:, :] = -1\n",
    "        self.position[:, -2:] = -1\n",
    "        self.board[self.x,self.y] = 0\n",
    "        self.t = 0\n",
    "\n",
    "        state = np.concatenate((self.malus_position.reshape(self.grid_size, self.grid_size,1),\n",
    "                                self.board.reshape(self.grid_size, self.grid_size,1),\n",
    "                        self.position.reshape(self.grid_size, self.grid_size,1)),axis=2)\n",
    "\n",
    "        state = state[self.x - 2:self.x + 3, self.y - 2:self.y + 3, :]\n",
    "        return state"
   ]
  },
  {
   "cell_type": "code",
   "execution_count": 127,
   "metadata": {},
   "outputs": [
    {
     "name": "stdout",
     "output_type": "stream",
     "text": [
      "_________________________________________________________________\n",
      "Layer (type)                 Output Shape              Param #   \n",
      "=================================================================\n",
      "conv2d_43 (Conv2D)           (None, 3, 3, 16)          448       \n",
      "_________________________________________________________________\n",
      "conv2d_44 (Conv2D)           (None, 1, 1, 8)           1160      \n",
      "_________________________________________________________________\n",
      "flatten_41 (Flatten)         (None, 8)                 0         \n",
      "_________________________________________________________________\n",
      "dense_63 (Dense)             (None, 4)                 36        \n",
      "=================================================================\n",
      "Total params: 1,644\n",
      "Trainable params: 1,644\n",
      "Non-trainable params: 0\n",
      "_________________________________________________________________\n",
      "Epoch 001/010 | Loss 0.0183 | Win/lose count 9.0/22.600000000000062 (-13.600000000000062)\n",
      "Epoch 002/010 | Loss 0.0301 | Win/lose count 8.100000000000001/31.80000000000009 (-23.700000000000088)\n",
      "Epoch 003/010 | Loss 0.0073 | Win/lose count 5.400000000000001/22.600000000000048 (-17.200000000000045)\n",
      "Epoch 004/010 | Loss 0.0141 | Win/lose count 12.600000000000005/25.100000000000072 (-12.500000000000068)\n",
      "Epoch 005/010 | Loss 0.0118 | Win/lose count 9.200000000000003/21.40000000000004 (-12.200000000000038)\n",
      "Epoch 006/010 | Loss 0.0042 | Win/lose count 6.400000000000001/26.300000000000058 (-19.900000000000055)\n",
      "Epoch 007/010 | Loss 0.0090 | Win/lose count 8.900000000000004/25.800000000000065 (-16.900000000000063)\n",
      "Epoch 008/010 | Loss 0.0156 | Win/lose count 9.500000000000002/31.60000000000011 (-22.100000000000108)\n",
      "Epoch 009/010 | Loss 0.0224 | Win/lose count 8.000000000000002/32.10000000000013 (-24.10000000000013)\n",
      "Epoch 010/010 | Loss 0.0057 | Win/lose count 2.8/30.400000000000137 (-27.600000000000136)\n"
     ]
    },
    {
     "data": {
      "text/html": [
       "<video alt=\"test\" controls>\n",
       "                <source src=\"data:video/mp4;base64,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\" type=\"video/mp4\" />\n",
       "             </video>"
      ],
      "text/plain": [
       "<IPython.core.display.HTML object>"
      ]
     },
     "execution_count": 127,
     "metadata": {},
     "output_type": "execute_result"
    }
   ],
   "source": [
    "# Training\n",
    "env = EnvironmentExploring(grid_size=size, max_time=T, temperature=0.3)\n",
    "agent = DQN_CNN(size, lr=.1, epsilon = 0.3, memory_size=2000, batch_size = 32,n_state=3)\n",
    "train_explore(agent, env, epochs_train, prefix='cnn_train_explore')\n",
    "HTML(display_videos('cnn_train_explore10.mp4'))"
   ]
  },
  {
   "cell_type": "code",
   "execution_count": 128,
   "metadata": {},
   "outputs": [
    {
     "name": "stdout",
     "output_type": "stream",
     "text": [
      "Win/lose count 9.0/4.0. Average score (2.5)\n",
      "Win/lose count 5.0/3.0. Average score (2.3333333333333335)\n",
      "Win/lose count 4.5/6.0. Average score (1.375)\n",
      "Win/lose count 6.0/3.0. Average score (1.7)\n",
      "Win/lose count 8.5/10.0. Average score (1.1666666666666667)\n",
      "Win/lose count 17.0/11.0. Average score (1.8571428571428572)\n",
      "Win/lose count 6.5/5.0. Average score (1.8125)\n",
      "Win/lose count 15.0/13.0. Average score (1.8333333333333333)\n",
      "Win/lose count 8.5/9.0. Average score (1.6)\n",
      "Win/lose count 4.5/6.0. Average score (1.3181818181818181)\n",
      "Final score: 1.45\n"
     ]
    },
    {
     "data": {
      "text/html": [
       "<video alt=\"test\" controls>\n",
       "                <source src=\"data:video/mp4;base64,AAAAIGZ0eXBpc29tAAACAGlzb21pc28yYXZjMW1wNDEAAAAIZnJlZQAAFo1tZGF0AAACrQYF//+p3EXpvebZSLeWLNgg2SPu73gyNjQgLSBjb3JlIDE1NSByMjkxNyAwYTg0ZDk4IC0gSC4yNjQvTVBFRy00IEFWQyBjb2RlYyAtIENvcHlsZWZ0IDIwMDMtMjAxOCAtIGh0dHA6Ly93d3cudmlkZW9sYW4ub3JnL3gyNjQuaHRtbCAtIG9wdGlvbnM6IGNhYmFjPTEgcmVmPTMgZGVibG9jaz0xOjA6MCBhbmFseXNlPTB4MToweDExMSBtZT1oZXggc3VibWU9NyBwc3k9MSBwc3lfcmQ9MS4wMDowLjAwIG1peGVkX3JlZj0xIG1lX3JhbmdlPTE2IGNocm9tYV9tZT0xIHRyZWxsaXM9MSA4eDhkY3Q9MCBjcW09MCBkZWFkem9uZT0yMSwxMSBmYXN0X3Bza2lwPTEgY2hyb21hX3FwX29mZnNldD00IHRocmVhZHM9OCBsb29rYWhlYWRfdGhyZWFkcz0xIHNsaWNlZF90aHJlYWRzPTAgbnI9MCBkZWNpbWF0ZT0xIGludGVybGFjZWQ9MCBibHVyYXlfY29tcGF0PTAgY29uc3RyYWluZWRfaW50cmE9MCBiZnJhbWVzPTMgYl9weXJhbWlkPTIgYl9hZGFwdD0xIGJfYmlhcz0wIGRpcmVjdD0xIHdlaWdodGI9MSBvcGVuX2dvcD0wIHdlaWdodHA9MiBrZXlpbnQ9MjUwIGtleWludF9taW49MjUgc2NlbmVjdXQ9NDAgaW50cmFfcmVmcmVzaD0wIHJjX2xvb2thaGVhZD00MCByYz1jcmYgbWJ0cmVlPTEgY3JmPTIzLjAgcWNvbXA9MC42MCBxcG1pbj0wIHFwbWF4PTY5IHFwc3RlcD00IGlwX3JhdGlvPTEuNDAgYXE9MToxLjAwAIAAAAMsZYiEADf//vaH+BTZWBP+Wb/9DX/cj9uPrP1xYyEE31qvIejAGS+1H+b/rFFs6Z6UB/fgCJQAc24ZwpJw4v/ApLdW+BTLYTnE+Uwo5XT/KBbJHQMxP78No02q0tPZVj38YT4W6OrPt3Be+ne5IdHDQ8mgM3bqSfp0CcLv7eSPsboO0PYFgAZtCEfLHpjLaI4XWuCQQIh7NhcD0u7cRgm0smQ9SJTHVgvfUZWa0CYIFHjXijwAiwsn2ZvDOejH7BL1ZR6BInSrW+zv72eaE2azRddKbQ+yPqO9jal92I9+qX2kTOIJOEOV5UmnoLu6VUo5w+wjINm92hZ7arxEZ5z2JQBMkKidEmO7rxlbmzpBrA1fvXA/OP2OLTP0WYIx7aOL5JawQm8yhHzqer57+myNocIyObH1lguY1AwMnSzPPD1B5zLl76Gmbb6TbZiRF+f9sYZUuMrtblkPbLbnR0jVTXPK/fSVxd0iVZJSW6CYbfADQm9qSUyTtwF1F1zkyFCDs43Hwu7ZfJfhRNCYIEokY78uXBgpvxIoWWZuktJIBT7uiMsspNNd/ZVlVfPgeE5RlhuCP2SvWoAQqtRTLBzd3cfw8SZHcRFGeNz9uugGed9j4R9Cuh9fnYmauhAAI/+mYxZagVbo5MI9YPBZzirm8vNH8IWbH8+CXTzYoTyphUiZhS2UdI+Dwf2OOhA+86nQ+EEx5GYME3NX7JVnh4ytVSurOxS5mLJuVNX6iC8DtYVXtQ/+jt5PMiP/oljmiOyPMV5huZtSvtjIuJcZ114hcwVDgxrn/gAXcQjTy5T2BURFEfcYnSqHXKGgntTFBqRUH7L7hgl7VqG7ZGq7pYKhEL8G3RFg/bhzgH2suQntLTlL0bBwwH1VkjebM8eSd+J5p5k+TgSaaQk1H4CVwv2aFnJv74tv8aN5LEIms+WpK/4Litlnu/kTvYztMWriNUbI2kWhiRyfKGc7T/ww321lWMS4W4fAWz6Lbl7NNOqfPrtgOJ1KhCZHH/3HZi9LAGBTi4eEAhySLH9f3z+Qxsw8jdYHv7cAh0sHI0HR72WsYEkpPXIxRgSn9AAAv4EAAAAXQZoibEN//qeEAKvwKpj/Vb5j3Xx1r1sAAAAPAZ5BeQr/AIr6TuDZtTRtAAAALUGaRDwhkymEN//+p4QBxrjNfiEAP/4Sogsxf/4SYj8X/+v/n1VQIT+zKnnL/AAAABABnmNqQr8BUbHjlf24fN3BAAAAGUGaZUnhDyZTAh3//qmWAO4FPxLyEpAiB3UAAAAWQZqJSeEPJlMCHf/+qZYA+SSEm2wKCQAAAA5BnqdFETwv/wD+oAKyoQAAABABnsZ0Qr8BY7R3mCWNopMwAAAAEAGeyGpCvwFjUaJl0HTyy7gAAAATQZrNSahBaJlMCHf//qmWAACVgQAAAAxBnutFESwv/wAAsoAAAAAQAZ8KdEK/AWO0d5gljaKTMAAAABABnwxqQr8BY1GiZdB08su5AAAAE0GbEUmoQWyZTAh3//6plgAAlYEAAAAMQZ8vRRUsL/8AALKBAAAAEAGfTnRCvwFjtHeYJY2ikzAAAAAQAZ9QakK/AWNRomXQdPLLuAAAABNBm1VJqEFsmUwId//+qZYAAJWBAAAADEGfc0UVLC//AACygAAAABABn5J0Qr8BY7R3mCWNopMwAAAAEAGflGpCvwFjUaJl0HTyy7kAAAATQZuZSahBbJlMCHf//qmWAACVgAAAAAxBn7dFFSwv/wAAsoEAAAAQAZ/WdEK/AWO0d5gljaKTMQAAABABn9hqQr8BY1GiZdB08su4AAAAE0Gb3UmoQWyZTAh3//6plgAAlYEAAAAMQZ/7RRUsL/8AALKAAAAAEAGeGnRCvwFjtHeYJY2ikzEAAAAQAZ4cakK/AWNRomXQdPLLuQAAABNBmgFJqEFsmUwId//+qZYAAJWAAAAADEGeP0UVLC//AACygAAAABABnl50Qr8BY7R3mCWNopMxAAAAEAGeQGpCvwFjUaJl0HTyy7gAAAATQZpFSahBbJlMCHf//qmWAACVgQAAAAxBnmNFFSwv/wAAsoAAAAAQAZ6CdEK/AWO0d5gljaKTMQAAABABnoRqQr8BY1GiZdB08su5AAAAE0GaiUmoQWyZTAh3//6plgAAlYEAAAAMQZ6nRRUsL/8AALKBAAAAEAGexnRCvwFjtHeYJY2ikzAAAAAQAZ7IakK/AWNRomXQdPLLuAAAABNBms1JqEFsmUwId//+qZYAAJWBAAAADEGe60UVLC//AACygAAAABABnwp0Qr8BY7R3mCWNopMwAAAAEAGfDGpCvwFjUaJl0HTyy7kAAAATQZsRSahBbJlMCHf//qmWAACVgQAAAAxBny9FFSwv/wAAsoEAAAAQAZ9OdEK/AWO0d5gljaKTMAAAABABn1BqQr8BY1GiZdB08su4AAAAE0GbVUmoQWyZTAh3//6plgAAlYEAAAAMQZ9zRRUsL/8AALKAAAAAEAGfknRCvwFjtHeYJY2ikzAAAAAQAZ+UakK/AWNRomXQdPLLuQAAABNBm5lJqEFsmUwId//+qZYAAJWAAAAADEGft0UVLC//AACygQAAABABn9Z0Qr8BY7R3mCWNopMxAAAAEAGf2GpCvwFjUaJl0HTyy7gAAAATQZvdSahBbJlMCHf//qmWAACVgQAAAAxBn/tFFSwv/wAAsoAAAAAQAZ4adEK/AWO0d5gljaKTMQAAABABnhxqQr8BY1GiZdB08su5AAAAE0GaAUmoQWyZTAh3//6plgAAlYAAAAAMQZ4/RRUsL/8AALKAAAAAEAGeXnRCvwFjtHeYJY2ikzEAAAAQAZ5AakK/AWNRomXQdPLLuAAAABNBmkVJqEFsmUwId//+qZYAAJWBAAAADEGeY0UVLC//AACygAAAABABnoJ0Qr8BY7R3mCWNopMxAAAAEAGehGpCvwFjUaJl0HTyy7kAAAATQZqJSahBbJlMCHf//qmWAACVgQAAAAxBnqdFFSwv/wAAsoEAAAAQAZ7GdEK/AWO0d5gljaKTMAAAABABnshqQr8BY1GiZdB08su4AAAAE0GazUmoQWyZTAh3//6plgAAlYEAAAAMQZ7rRRUsL/8AALKAAAAAEAGfCnRCvwFjtHeYJY2ikzAAAAAQAZ8MakK/AWNRomXQdPLLuQAAABNBmxFJqEFsmUwId//+qZYAAJWBAAAADEGfL0UVLC//AACygQAAABABn050Qr8BY7R3mCWNopMwAAAAEAGfUGpCvwFjUaJl0HTyy7gAAAATQZtVSahBbJlMCHf//qmWAACVgQAAAAxBn3NFFSwv/wAAsoAAAAAQAZ+SdEK/AWO0d5gljaKTMAAAABABn5RqQr8BY1GiZdB08su5AAAAE0GbmUmoQWyZTAh3//6plgAAlYAAAAAMQZ+3RRUsL/8AALKBAAAAEAGf1nRCvwFjtHeYJY2ikzEAAAAQAZ/YakK/AWNRomXQdPLLuAAAABNBm91JqEFsmUwId//+qZYAAJWBAAAADEGf+0UVLC//AACygAAAABABnhp0Qr8BY7R3mCWNopMxAAAAEAGeHGpCvwFjUaJl0HTyy7kAAAATQZoBSahBbJlMCHf//qmWAACVgAAAAAxBnj9FFSwv/wAAsoAAAAAQAZ5edEK/AWO0d5gljaKTMQAAABABnkBqQr8BY1GiZdB08su4AAAAE0GaRUmoQWyZTAh3//6plgAAlYEAAAAMQZ5jRRUsL/8AALKAAAAAEAGegnRCvwFjtHeYJY2ikzEAAAAQAZ6EakK/AWNRomXQdPLLuQAAABNBmolJqEFsmUwId//+qZYAAJWBAAAADEGep0UVLC//AACygQAAABABnsZ0Qr8BY7R3mCWNopMwAAAAEAGeyGpCvwFjUaJl0HTyy7gAAAATQZrNSahBbJlMCHf//qmWAACVgQAAAAxBnutFFSwv/wAAsoAAAAAQAZ8KdEK/AWO0d5gljaKTMAAAABABnwxqQr8BY1GiZdB08su5AAAAE0GbEUmoQWyZTAh3//6plgAAlYEAAAAMQZ8vRRUsL/8AALKBAAAAEAGfTnRCvwFjtHeYJY2ikzAAAAAQAZ9QakK/AWNRomXQdPLLuAAAABNBm1VJqEFsmUwId//+qZYAAJWBAAAADEGfc0UVLC//AACygAAAABABn5J0Qr8BY7R3mCWNopMwAAAAEAGflGpCvwFjUaJl0HTyy7kAAAATQZuZSahBbJlMCHf//qmWAACVgAAAAAxBn7dFFSwv/wAAsoEAAAAQAZ/WdEK/AWO0d5gljaKTMQAAABABn9hqQr8BY1GiZdB08su4AAAAE0Gb3UmoQWyZTAh3//6plgAAlYEAAAAMQZ/7RRUsL/8AALKAAAAAEAGeGnRCvwFjtHeYJY2ikzEAAAAQAZ4cakK/AWNRomXQdPLLuQAAABNBmgFJqEFsmUwId//+qZYAAJWAAAAADEGeP0UVLC//AACygAAAABABnl50Qr8BY7R3mCWNopMxAAAAEAGeQGpCvwFjUaJl0HTyy7gAAAATQZpFSahBbJlMCHf//qmWAACVgQAAAAxBnmNFFSwv/wAAsoAAAAAQAZ6CdEK/AWO0d5gljaKTMQAAABABnoRqQr8BY1GiZdB08su5AAAAE0GaiUmoQWyZTAh3//6plgAAlYEAAAAMQZ6nRRUsL/8AALKBAAAAEAGexnRCvwFjtHeYJY2ikzAAAAAQAZ7IakK/AWNRomXQdPLLuAAAABNBms1JqEFsmUwId//+qZYAAJWBAAAADEGe60UVLC//AACygAAAABABnwp0Qr8BY7R3mCWNopMwAAAAEAGfDGpCvwFjUaJl0HTyy7kAAAATQZsRSahBbJlMCHf//qmWAACVgQAAAAxBny9FFSwv/wAAsoEAAAAQAZ9OdEK/AWO0d5gljaKTMAAAABABn1BqQr8BY1GiZdB08su4AAAAE0GbVUmoQWyZTAh3//6plgAAlYEAAAAMQZ9zRRUsL/8AALKAAAAAEAGfknRCvwFjtHeYJY2ikzAAAAAQAZ+UakK/AWNRomXQdPLLuQAAABNBm5lJqEFsmUwId//+qZYAAJWAAAAADEGft0UVLC//AACygQAAABABn9Z0Qr8BY7R3mCWNopMxAAAAEAGf2GpCvwFjUaJl0HTyy7gAAAATQZvdSahBbJlMCHf//qmWAACVgQAAAAxBn/tFFSwv/wAAsoAAAAAQAZ4adEK/AWO0d5gljaKTMQAAABABnhxqQr8BY1GiZdB08su5AAAAE0GaAUmoQWyZTAh3//6plgAAlYAAAAAMQZ4/RRUsL/8AALKAAAAAEAGeXnRCvwFjtHeYJY2ikzEAAAAQAZ5AakK/AWNRomXQdPLLuAAAABNBmkVJqEFsmUwId//+qZYAAJWBAAAADEGeY0UVLC//AACygAAAABABnoJ0Qr8BY7R3mCWNopMxAAAAEAGehGpCvwFjUaJl0HTyy7kAAAATQZqJSahBbJlMCHf//qmWAACVgQAAAAxBnqdFFSwv/wAAsoEAAAAQAZ7GdEK/AWO0d5gljaKTMAAAABABnshqQr8BY1GiZdB08su4AAAAEkGazUmoQWyZTAhv//6nhAABJwAAAAxBnutFFSwv/wAAsoAAAAAQAZ8KdEK/AWO0d5gljaKTMAAAABABnwxqQr8BY1GiZdB08su5AAAAGkGbEEmoQWyZTAhv//6nhAHrvv7mRQA6Ni2hAAAAD0GfLkUVLCv/AWNrcNZdwQAAAA0Bn09qQr8BY+Ui3rLuAAAAGUGbUUmoQWyZTAhv//6nhAboAs2pkQEafkAAAAAeQZt1SeEKUmUwIZ/+nhAcfOb467vH9vtJ20B/kLuBAAAAFEGfk0U0TC//AbIW25CjgGu/hypgAAAAEAGfsnRCvwJI2BraYOCvh4AAAAAPAZ+0akK/AWxrKZtmRrHpAAAAHEGbt0moQWiZTBTwz/6eEAcbv7+dxxOkbFPqUUAAAAAQAZ/WakK/AVpr5zrQwvDnwQAAABhBm9hJ4QpSZTAhn/6eEAP36+/kSI+sIakAAAAYQZv5SeEOiZTAhn/+nhACoe6bGXJsq21MAAAAGEGaGknhDyZTAhn//p4QAo/umxlybKttbQAAABhBmjtJ4Q8mUwIb//6nhACj+6nH+H1bbTMAAAAeQZpdSeEPJlMFETw3//6nhACffHT3ebr762YoR+h3AAAAEAGefGpCvwB/AXnOtDC8Y8EAAAAdQZp/SeEPJlMFPDP//p4QAYn19/QroA91xH1m3ZQAAAAPAZ6eakK/AFHbbpRpDxPhAAAAGUGagEnhDyZTAhv//qeEAD5ewf4Tgt0JW0EAAAAZQZqhSeEPJlMCG//+p4QAKR7qfqONCQ5SQAAAACdBmsVJ4Q8mUwIZ//6eEABxvV35llT4I+ZYNCfmWR1oMXw9dd5W7UkAAAAdQZ7jRRE8L/8AEV0EBCE/4hC7//EIL4n/xBMeWAQAAAAPAZ8CdEK/ABa8sGDZjiYZAAAAEAGfBGpCvwAX51TyXM+TAoEAAAAcQZsGSahBaJlMCGf//p4QAHG+D4EJ/fcY+sLugQAAABpBmylL4QhClJEYIKAfyAf2HgCFf/44QAARcQAAAChBn0dFNEwr/wKvY+1BxN2qw0km5aqGByy1u80qI7kgN+uMBtWAk8CMAAAAMQGfaGpCvwKvY+1BxN2qw0km5aqGByy1u80sKcOw3MsolBHMr0WnMserxKOgyqQjLzgAAAxYbW9vdgAAAGxtdmhkAAAAAAAAAAAAAAAAAAAD6AAAH5AAAQAAAQAAAAAAAAAAAAAAAAEAAAAAAAAAAAAAAAAAAAABAAAAAAAAAAAAAAAAAABAAAAAAAAAAAAAAAAAAAAAAAAAAAAAAAAAAAAAAAAAAgAAC4J0cmFrAAAAXHRraGQAAAADAAAAAAAAAAAAAAABAAAAAAAAH5AAAAAAAAAAAAAAAAAAAAAAAAEAAAAAAAAAAAAAAAAAAAABAAAAAAAAAAAAAAAAAABAAAAAARAAAAEQAAAAAAAkZWR0cwAAABxlbHN0AAAAAAAAAAEAAB+QAAAEAAABAAAAAAr6bWRpYQAAACBtZGhkAAAAAAAAAAAAAAAAAAAyAAABlABVxAAAAAAALWhkbHIAAAAAAAAAAHZpZGUAAAAAAAAAAAAAAABWaWRlb0hhbmRsZXIAAAAKpW1pbmYAAAAUdm1oZAAAAAEAAAAAAAAAAAAAACRkaW5mAAAAHGRyZWYAAAAAAAAAAQAAAAx1cmwgAAAAAQAACmVzdGJsAAAAlXN0c2QAAAAAAAAAAQAAAIVhdmMxAAAAAAAAAAEAAAAAAAAAAAAAAAAAAAAAARABEABIAAAASAAAAAAAAAABAAAAAAAAAAAAAAAAAAAAAAAAAAAAAAAAAAAAAAAAAAAAGP//AAAAL2F2Y0MB9AAN/+EAF2f0AA2RmygiEdCAAAADAIAAABkHihTLAQAFaOvjxEgAAAAYc3R0cwAAAAAAAAABAAAAygAAAgAAAAAUc3RzcwAAAAAAAAABAAAAAQAABjBjdHRzAAAAAAAAAMQAAAABAAAEAAAAAAEAAAYAAAAAAQAAAgAAAAABAAAGAAAAAAEAAAIAAAAAAQAABAAAAAABAAAKAAAAAAEAAAQAAAAAAQAAAAAAAAABAAACAAAAAAEAAAoAAAAAAQAABAAAAAABAAAAAAAAAAEAAAIAAAAAAQAACgAAAAABAAAEAAAAAAEAAAAAAAAAAQAAAgAAAAABAAAKAAAAAAEAAAQAAAAAAQAAAAAAAAABAAACAAAAAAEAAAoAAAAAAQAABAAAAAABAAAAAAAAAAEAAAIAAAAAAQAACgAAAAABAAAEAAAAAAEAAAAAAAAAAQAAAgAAAAABAAAKAAAAAAEAAAQAAAAAAQAAAAAAAAABAAACAAAAAAEAAAoAAAAAAQAABAAAAAABAAAAAAAAAAEAAAIAAAAAAQAACgAAAAABAAAEAAAAAAEAAAAAAAAAAQAAAgAAAAABAAAKAAAAAAEAAAQAAAAAAQAAAAAAAAABAAACAAAAAAEAAAoAAAAAAQAABAAAAAABAAAAAAAAAAEAAAIAAAAAAQAACgAAAAABAAAEAAAAAAEAAAAAAAAAAQAAAgAAAAABAAAKAAAAAAEAAAQAAAAAAQAAAAAAAAABAAACAAAAAAEAAAoAAAAAAQAABAAAAAABAAAAAAAAAAEAAAIAAAAAAQAACgAAAAABAAAEAAAAAAEAAAAAAAAAAQAAAgAAAAABAAAKAAAAAAEAAAQAAAAAAQAAAAAAAAABAAACAAAAAAEAAAoAAAAAAQAABAAAAAABAAAAAAAAAAEAAAIAAAAAAQAACgAAAAABAAAEAAAAAAEAAAAAAAAAAQAAAgAAAAABAAAKAAAAAAEAAAQAAAAAAQAAAAAAAAABAAACAAAAAAEAAAoAAAAAAQAABAAAAAABAAAAAAAAAAEAAAIAAAAAAQAACgAAAAABAAAEAAAAAAEAAAAAAAAAAQAAAgAAAAABAAAKAAAAAAEAAAQAAAAAAQAAAAAAAAABAAACAAAAAAEAAAoAAAAAAQAABAAAAAABAAAAAAAAAAEAAAIAAAAAAQAACgAAAAABAAAEAAAAAAEAAAAAAAAAAQAAAgAAAAABAAAKAAAAAAEAAAQAAAAAAQAAAAAAAAABAAACAAAAAAEAAAoAAAAAAQAABAAAAAABAAAAAAAAAAEAAAIAAAAAAQAACgAAAAABAAAEAAAAAAEAAAAAAAAAAQAAAgAAAAABAAAKAAAAAAEAAAQAAAAAAQAAAAAAAAABAAACAAAAAAEAAAoAAAAAAQAABAAAAAABAAAAAAAAAAEAAAIAAAAAAQAACgAAAAABAAAEAAAAAAEAAAAAAAAAAQAAAgAAAAABAAAKAAAAAAEAAAQAAAAAAQAAAAAAAAABAAACAAAAAAEAAAoAAAAAAQAABAAAAAABAAAAAAAAAAEAAAIAAAAAAQAACgAAAAABAAAEAAAAAAEAAAAAAAAAAQAAAgAAAAABAAAKAAAAAAEAAAQAAAAAAQAAAAAAAAABAAACAAAAAAEAAAoAAAAAAQAABAAAAAABAAAAAAAAAAEAAAIAAAAAAQAACgAAAAABAAAEAAAAAAEAAAAAAAAAAQAAAgAAAAABAAAKAAAAAAEAAAQAAAAAAQAAAAAAAAABAAACAAAAAAEAAAoAAAAAAQAABAAAAAABAAAAAAAAAAEAAAIAAAAAAQAACgAAAAABAAAEAAAAAAEAAAAAAAAAAQAAAgAAAAABAAAKAAAAAAEAAAQAAAAAAQAAAAAAAAABAAACAAAAAAEAAAoAAAAAAQAABAAAAAABAAAAAAAAAAEAAAIAAAAAAQAACgAAAAABAAAEAAAAAAEAAAAAAAAAAQAAAgAAAAABAAAIAAAAAAIAAAIAAAAAAQAABAAAAAABAAAKAAAAAAEAAAQAAAAAAQAAAAAAAAABAAACAAAAAAEAAAYAAAAAAQAAAgAAAAAEAAAEAAAAAAEAAAYAAAAAAQAAAgAAAAABAAAGAAAAAAEAAAIAAAAAAgAABAAAAAABAAAKAAAAAAEAAAQAAAAAAQAAAAAAAAABAAACAAAAAAEAAAQAAAAAAQAACAAAAAACAAACAAAAABxzdHNjAAAAAAAAAAEAAAABAAAAygAAAAEAAAM8c3RzegAAAAAAAAAAAAAAygAABeEAAAAbAAAAEwAAADEAAAAUAAAAHQAAABoAAAASAAAAFAAAABQAAAAXAAAAEAAAABQAAAAUAAAAFwAAABAAAAAUAAAAFAAAABcAAAAQAAAAFAAAABQAAAAXAAAAEAAAABQAAAAUAAAAFwAAABAAAAAUAAAAFAAAABcAAAAQAAAAFAAAABQAAAAXAAAAEAAAABQAAAAUAAAAFwAAABAAAAAUAAAAFAAAABcAAAAQAAAAFAAAABQAAAAXAAAAEAAAABQAAAAUAAAAFwAAABAAAAAUAAAAFAAAABcAAAAQAAAAFAAAABQAAAAXAAAAEAAAABQAAAAUAAAAFwAAABAAAAAUAAAAFAAAABcAAAAQAAAAFAAAABQAAAAXAAAAEAAAABQAAAAUAAAAFwAAABAAAAAUAAAAFAAAABcAAAAQAAAAFAAAABQAAAAXAAAAEAAAABQAAAAUAAAAFwAAABAAAAAUAAAAFAAAABcAAAAQAAAAFAAAABQAAAAXAAAAEAAAABQAAAAUAAAAFwAAABAAAAAUAAAAFAAAABcAAAAQAAAAFAAAABQAAAAXAAAAEAAAABQAAAAUAAAAFwAAABAAAAAUAAAAFAAAABcAAAAQAAAAFAAAABQAAAAXAAAAEAAAABQAAAAUAAAAFwAAABAAAAAUAAAAFAAAABcAAAAQAAAAFAAAABQAAAAXAAAAEAAAABQAAAAUAAAAFwAAABAAAAAUAAAAFAAAABcAAAAQAAAAFAAAABQAAAAXAAAAEAAAABQAAAAUAAAAFwAAABAAAAAUAAAAFAAAABcAAAAQAAAAFAAAABQAAAAXAAAAEAAAABQAAAAUAAAAFwAAABAAAAAUAAAAFAAAABcAAAAQAAAAFAAAABQAAAAXAAAAEAAAABQAAAAUAAAAFgAAABAAAAAUAAAAFAAAAB4AAAATAAAAEQAAAB0AAAAiAAAAGAAAABQAAAATAAAAIAAAABQAAAAcAAAAHAAAABwAAAAcAAAAIgAAABQAAAAhAAAAEwAAAB0AAAAdAAAAKwAAACEAAAATAAAAFAAAACAAAAAeAAAALAAAADUAAAAUc3RjbwAAAAAAAAABAAAAMAAAAGJ1ZHRhAAAAWm1ldGEAAAAAAAAAIWhkbHIAAAAAAAAAAG1kaXJhcHBsAAAAAAAAAAAAAAAALWlsc3QAAAAlqXRvbwAAAB1kYXRhAAAAAQAAAABMYXZmNTguMjAuMTAw\" type=\"video/mp4\" />\n",
       "             </video>"
      ],
      "text/plain": [
       "<IPython.core.display.HTML object>"
      ]
     },
     "execution_count": 128,
     "metadata": {},
     "output_type": "execute_result"
    }
   ],
   "source": [
    "# Evaluation\n",
    "test(agent,env,epochs_test,prefix='cnn_test_explore')\n",
    "HTML(display_videos('cnn_test_explore10.mp4'))"
   ]
  },
  {
   "cell_type": "markdown",
   "metadata": {},
   "source": [
    "***\n",
    "***\n",
    "__BONUS question__ Use the expert DQN from the previous question to generate some winning games. Train a model that mimicks its behavior. Compare the performances."
   ]
  },
  {
   "cell_type": "markdown",
   "metadata": {},
   "source": []
  },
  {
   "cell_type": "markdown",
   "metadata": {},
   "source": [
    "***"
   ]
  }
 ],
 "metadata": {
  "kernelspec": {
   "display_name": "Python 3",
   "language": "python",
   "name": "python3"
  },
  "language_info": {
   "codemirror_mode": {
    "name": "ipython",
    "version": 3
   },
   "file_extension": ".py",
   "mimetype": "text/x-python",
   "name": "python",
   "nbconvert_exporter": "python",
   "pygments_lexer": "ipython3",
   "version": "3.6.7"
  }
 },
 "nbformat": 4,
 "nbformat_minor": 2
}
